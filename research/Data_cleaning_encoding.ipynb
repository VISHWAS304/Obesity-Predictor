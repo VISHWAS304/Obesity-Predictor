{
 "cells": [
  {
   "cell_type": "code",
   "execution_count": 1,
   "metadata": {},
   "outputs": [
    {
     "data": {
      "text/plain": [
       "'c:\\\\Users\\\\vishw\\\\Documents\\\\college_projects\\\\Obesity-Predictor\\\\research'"
      ]
     },
     "execution_count": 1,
     "metadata": {},
     "output_type": "execute_result"
    }
   ],
   "source": [
    "%pwd"
   ]
  },
  {
   "cell_type": "code",
   "execution_count": 2,
   "metadata": {},
   "outputs": [],
   "source": [
    "import os"
   ]
  },
  {
   "cell_type": "code",
   "execution_count": 3,
   "metadata": {},
   "outputs": [],
   "source": [
    "os.chdir(\"../\")"
   ]
  },
  {
   "cell_type": "code",
   "execution_count": 4,
   "metadata": {},
   "outputs": [
    {
     "data": {
      "text/plain": [
       "'c:\\\\Users\\\\vishw\\\\Documents\\\\college_projects\\\\Obesity-Predictor'"
      ]
     },
     "execution_count": 4,
     "metadata": {},
     "output_type": "execute_result"
    }
   ],
   "source": [
    "%pwd"
   ]
  },
  {
   "cell_type": "code",
   "execution_count": 5,
   "metadata": {},
   "outputs": [],
   "source": [
    "from dataclasses import dataclass\n",
    "from pathlib import Path\n",
    "\n",
    "@dataclass(frozen=True)\n",
    "class DataCleaningEncodingConfig:\n",
    "    input_file: Path\n",
    "    output_file: Path\n"
   ]
  },
  {
   "cell_type": "code",
   "execution_count": null,
   "metadata": {},
   "outputs": [],
   "source": [
    "\n",
    "from ObesityPredictor.utils.common import read_yaml, create_directories"
   ]
  },
  {
   "cell_type": "code",
   "execution_count": 6,
   "metadata": {},
   "outputs": [],
   "source": [
    "from ObesityPredictor.constants import *\n",
    "from ObesityPredictor.utils.common import read_yaml, create_directories\n",
    "# Configuration Manager for Data Cleaning and Encoding\n",
    "class ConfigurationManager:\n",
    "    def __init__(self, config_filepath=CONFIG_FILE_PATH):\n",
    "        self.config = read_yaml(config_filepath)\n",
    "    \n",
    "    def get_data_cleaning_encoding_config(self) -> DataCleaningEncodingConfig:\n",
    "        config = self.config.data_cleaning_encoding\n",
    "        return DataCleaningEncodingConfig(\n",
    "            input_file=Path(config.input_file),\n",
    "            output_file=Path(config.output_file)\n",
    "        )"
   ]
  },
  {
   "cell_type": "code",
   "execution_count": 7,
   "metadata": {},
   "outputs": [],
   "source": [
    "import pandas as pd\n",
    "import os\n",
    "from pathlib import Path\n",
    "from ObesityPredictor import logger\n",
    "\n",
    "class DataCleaningEncodingConfig:\n",
    "    def __init__(self, input_file: Path, output_file: Path):\n",
    "        self.input_file = input_file\n",
    "        self.output_file = output_file\n",
    "\n",
    "class DataCleaningEncoding:\n",
    "    def __init__(self, config: DataCleaningEncodingConfig):\n",
    "        self.config = config\n",
    "    \n",
    "    def load_data(self) -> pd.DataFrame:\n",
    "        \"\"\"\n",
    "        Load the ingested data from the specified input file.\n",
    "        \"\"\"\n",
    "        try:\n",
    "            logger.info(f\"Loading data from {self.config.input_file}\")\n",
    "            df = pd.read_csv(self.config.input_file)\n",
    "            logger.info(f\"Data loaded successfully with shape {df.shape}\")\n",
    "            return df\n",
    "        except Exception as e:\n",
    "            logger.error(f\"Error loading data: {str(e)}\")\n",
    "            raise e\n",
    "\n",
    "    def clean_data(self, df: pd.DataFrame) -> pd.DataFrame:\n",
    "        \"\"\"\n",
    "        Perform data cleaning steps such as handling missing values and feature engineering.\n",
    "        \"\"\"\n",
    "        try:\n",
    "            logger.info(\"Cleaning data...\")\n",
    "            # Compute BMI\n",
    "            df['BMI'] = df['Weight'] / (df['Height'] ** 2)\n",
    "            df.drop(columns=['Height', 'Weight'], inplace=True)\n",
    "            logger.info(f\"Data cleaned, new shape: {df.shape}\")\n",
    "            return df\n",
    "        except Exception as e:\n",
    "            logger.error(f\"Error during data cleaning: {str(e)}\")\n",
    "            raise e\n",
    "    \n",
    "    def encode_data(self, df: pd.DataFrame) -> pd.DataFrame:\n",
    "        \"\"\"\n",
    "        Perform encoding of categorical variables.\n",
    "        \"\"\"\n",
    "        try:\n",
    "            logger.info(\"Encoding categorical features...\")\n",
    "            categorical_columns = ['Gender', 'family_history', 'FAVC', 'CAEC', 'SMOKE', 'SCC', 'CALC', 'MTRANS']\n",
    "            df = pd.get_dummies(df, columns=categorical_columns, drop_first=True)  # One-hot encoding\n",
    "            \n",
    "            # Encode the target variable\n",
    "            obesity_mapping = {\n",
    "                \"Insufficient_Weight\": 0,\n",
    "                \"Normal_Weight\": 1,\n",
    "                \"Overweight_Level_I\": 2,\n",
    "                \"Overweight_Level_II\": 3,\n",
    "                \"Obesity_Type_I\": 4,\n",
    "                \"Obesity_Type_II\": 5,\n",
    "                \"Obesity_Type_III\": 6\n",
    "            }\n",
    "            df['Obesity'] = df['Obesity'].map(obesity_mapping)\n",
    "            \n",
    "            logger.info(f\"Data encoding complete, new shape: {df.shape}\")\n",
    "            return df\n",
    "        except Exception as e:\n",
    "            logger.error(f\"Error during data encoding: {str(e)}\")\n",
    "            raise e\n",
    "\n",
    "    def save_data(self, df: pd.DataFrame):\n",
    "        \"\"\"\n",
    "        Save the cleaned and encoded data to the specified output file.\n",
    "        \"\"\"\n",
    "        try:\n",
    "            os.makedirs(self.config.output_file.parent, exist_ok=True)\n",
    "            df.to_csv(self.config.output_file, index=False)\n",
    "            logger.info(f\"Cleaned and encoded data saved to {self.config.output_file}\")\n",
    "        except Exception as e:\n",
    "            logger.error(f\"Error saving cleaned data: {str(e)}\")\n",
    "            raise e\n",
    "\n",
    "    def run(self):\n",
    "        \"\"\"\n",
    "        Execute the data cleaning and encoding pipeline.\n",
    "        \"\"\"\n",
    "        df = self.load_data()\n",
    "        df = self.clean_data(df)\n",
    "        df = self.encode_data(df)\n",
    "        self.save_data(df)"
   ]
  },
  {
   "cell_type": "code",
   "execution_count": 8,
   "metadata": {},
   "outputs": [
    {
     "name": "stdout",
     "output_type": "stream",
     "text": [
      "[2025-02-14 13:04:39,757: INFO: common: yaml file: config\\config.yaml loaded successfully]\n",
      "[2025-02-14 13:04:39,761: INFO: 1094122421: Loading data from artifacts\\data_ingestion\\Obesity_prediction.csv]\n",
      "[2025-02-14 13:04:39,797: INFO: 1094122421: Data loaded successfully with shape (2111, 17)]\n",
      "[2025-02-14 13:04:39,798: INFO: 1094122421: Cleaning data...]\n",
      "[2025-02-14 13:04:39,811: INFO: 1094122421: Data cleaned, new shape: (2111, 16)]\n",
      "[2025-02-14 13:04:39,812: INFO: 1094122421: Encoding categorical features...]\n",
      "[2025-02-14 13:04:39,826: INFO: 1094122421: Data encoding complete, new shape: (2111, 23)]\n",
      "[2025-02-14 13:04:39,852: INFO: 1094122421: Cleaned and encoded data saved to artifacts\\data_cleaning_encoded\\cleaned_encoded_data.csv]\n"
     ]
    }
   ],
   "source": [
    "# Running the Data Cleaning and Encoding Pipeline\n",
    "try:\n",
    "    config = ConfigurationManager()\n",
    "    data_cleaning_encoding_config = config.get_data_cleaning_encoding_config()\n",
    "    data_cleaning_encoding = DataCleaningEncoding(config=data_cleaning_encoding_config)\n",
    "    data_cleaning_encoding.run()\n",
    "except Exception as e:\n",
    "    raise e\n"
   ]
  },
  {
   "cell_type": "code",
   "execution_count": null,
   "metadata": {},
   "outputs": [],
   "source": []
  }
 ],
 "metadata": {
  "kernelspec": {
   "display_name": "ObesityPredictor",
   "language": "python",
   "name": "python3"
  },
  "language_info": {
   "codemirror_mode": {
    "name": "ipython",
    "version": 3
   },
   "file_extension": ".py",
   "mimetype": "text/x-python",
   "name": "python",
   "nbconvert_exporter": "python",
   "pygments_lexer": "ipython3",
   "version": "3.12.0"
  }
 },
 "nbformat": 4,
 "nbformat_minor": 2
}
